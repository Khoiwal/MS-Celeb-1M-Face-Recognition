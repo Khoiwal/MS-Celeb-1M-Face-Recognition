{
 "cells": [
  {
   "cell_type": "markdown",
   "metadata": {},
   "source": [
    "# MSR Image Recognition Challenge (IRC) @ACM Multimedia 2016"
   ]
  },
  {
   "cell_type": "markdown",
   "metadata": {},
   "source": [
    "Using Resnet-18"
   ]
  },
  {
   "cell_type": "markdown",
   "metadata": {},
   "source": [
    "Author: YinTaiChen"
   ]
  },
  {
   "cell_type": "markdown",
   "metadata": {},
   "source": [
    "![title](https://www.microsoft.com/en-us/research/wp-content/uploads/2014/03/irc_ms-celeb-1m-sample0.jpg)"
   ]
  },
  {
   "cell_type": "markdown",
   "metadata": {},
   "source": [
    "## Import everything"
   ]
  },
  {
   "cell_type": "code",
   "execution_count": 1,
   "metadata": {},
   "outputs": [],
   "source": [
    "import torch\n",
    "import torch.nn as nn\n",
    "import torch.optim as optim\n",
    "from torch.optim import lr_scheduler\n",
    "from torch.autograd import Variable\n",
    "import numpy as np\n",
    "import torchvision\n",
    "from torchvision import datasets, models, transforms\n",
    "import matplotlib.pyplot as plt\n",
    "import time\n",
    "import os"
   ]
  },
  {
   "cell_type": "markdown",
   "metadata": {},
   "source": [
    "## Define Dataset Loader"
   ]
  },
  {
   "cell_type": "code",
   "execution_count": 2,
   "metadata": {},
   "outputs": [],
   "source": [
    "import torch.utils.data as data\n",
    "\n",
    "from PIL import Image\n",
    "import os\n",
    "import os.path\n",
    "\n",
    "def default_loader(path):\n",
    "\treturn Image.open(path).convert('RGB')\n",
    "\n",
    "def default_flist_reader(flist):\n",
    "\t\"\"\"\n",
    "\tflist format: impath label\\nimpath label\\n ...(same to caffe's filelist)\n",
    "\t\"\"\"\n",
    "\timlist = []\n",
    "\twith open(flist, 'r') as rf:\n",
    "\t\tfor line in rf.readlines():\n",
    "\t\t\timpath, imlabel = line.strip().split()\n",
    "\t\t\timlist.append( (impath, int(imlabel)) )\n",
    "\t\t\t\t\t\n",
    "\treturn imlist\n",
    "\n",
    "class ImageFilelist(data.Dataset):\n",
    "\tdef __init__(self, root, flist, transform=None, target_transform=None,\n",
    "\t\t\tflist_reader=default_flist_reader, loader=default_loader):\n",
    "\t\tself.root   = root\n",
    "\t\tself.imlist = flist_reader(flist)\t\t\n",
    "\t\tself.transform = transform\n",
    "\t\tself.target_transform = target_transform\n",
    "\t\tself.loader = loader\n",
    "\n",
    "\tdef __getitem__(self, index):\n",
    "\t\timpath, target = self.imlist[index]\n",
    "\t\timg = self.loader(os.path.join(self.root,impath))\n",
    "\t\tif self.transform is not None:\n",
    "\t\t\timg = self.transform(img)\n",
    "\t\tif self.target_transform is not None:\n",
    "\t\t\ttarget = self.target_transform(target)\n",
    "\t\t\n",
    "\t\treturn img, target\n",
    "\n",
    "\tdef __len__(self):\n",
    "\t\treturn len(self.imlist)\n"
   ]
  },
  {
   "cell_type": "markdown",
   "metadata": {},
   "source": [
    "## Split dataset into training set and testing set"
   ]
  },
  {
   "cell_type": "raw",
   "metadata": {},
   "source": [
    "train_file = open('train_data.txt', 'w')\n",
    "test_file = open('test_data.txt', 'w')\n",
    "\n",
    "with open(\"MS-Celeb-1M_clean_list.txt\", \"r\") as data_file:\n",
    "    \n",
    "    counter = 0\n",
    "    for line in data_file.readlines():\n",
    "        counter += 1\n",
    "        if counter % 2 == 1:\n",
    "            train_file.write(line)\n",
    "        elif counter % 2 == 0:\n",
    "            test_file.write(line)"
   ]
  },
  {
   "cell_type": "markdown",
   "metadata": {},
   "source": [
    "## Download pretrained Resnet"
   ]
  },
  {
   "cell_type": "code",
   "execution_count": 3,
   "metadata": {},
   "outputs": [],
   "source": [
    "model = models.resnet18(pretrained=True)"
   ]
  },
  {
   "cell_type": "markdown",
   "metadata": {},
   "source": [
    "## Final fc layer replacement"
   ]
  },
  {
   "cell_type": "code",
   "execution_count": 4,
   "metadata": {},
   "outputs": [],
   "source": [
    "num_ftrs = model.fc.in_features\n",
    "model.fc = nn.Linear(num_ftrs, 79077)"
   ]
  },
  {
   "cell_type": "markdown",
   "metadata": {},
   "source": [
    "## Use CUDA if available"
   ]
  },
  {
   "cell_type": "code",
   "execution_count": 5,
   "metadata": {},
   "outputs": [],
   "source": [
    "use_gpu = torch.cuda.is_available()\n",
    "\n",
    "if use_gpu:\n",
    "    model = model.cuda()"
   ]
  },
  {
   "cell_type": "markdown",
   "metadata": {},
   "source": [
    "## Loss function, SGD and learning rate scheduler"
   ]
  },
  {
   "cell_type": "code",
   "execution_count": 6,
   "metadata": {},
   "outputs": [],
   "source": [
    "criterion = nn.CrossEntropyLoss()\n",
    "optimizer = optim.SGD(model.parameters(), lr=0.001, momentum=0.9)\n",
    "exp_lr_scheduler = lr_scheduler.StepLR(optimizer, step_size=7, gamma=0.1)"
   ]
  },
  {
   "cell_type": "markdown",
   "metadata": {},
   "source": [
    "## Image pre-processing and transformed to tensor"
   ]
  },
  {
   "cell_type": "code",
   "execution_count": 7,
   "metadata": {},
   "outputs": [],
   "source": [
    "data_transforms = transforms.Compose([\n",
    "    transforms.RandomSizedCrop(224),\n",
    "    transforms.RandomHorizontalFlip(),\n",
    "    transforms.ToTensor(),\n",
    "    transforms.Normalize([0.485, 0.456, 0.406], [0.229, 0.224, 0.225])\n",
    "    ])"
   ]
  },
  {
   "cell_type": "markdown",
   "metadata": {},
   "source": [
    "## Load training set"
   ]
  },
  {
   "cell_type": "code",
   "execution_count": 8,
   "metadata": {},
   "outputs": [],
   "source": [
    "trainset = ImageFilelist(root=\"./msr\", flist=\"train_data.txt\", transform=data_transforms)"
   ]
  },
  {
   "cell_type": "markdown",
   "metadata": {},
   "source": [
    "## Load testing set"
   ]
  },
  {
   "cell_type": "code",
   "execution_count": 9,
   "metadata": {},
   "outputs": [],
   "source": [
    "testset = ImageFilelist(root=\"./msr\", flist=\"test_data.txt\", transform=data_transforms)"
   ]
  },
  {
   "cell_type": "markdown",
   "metadata": {},
   "source": [
    "## Two phases to iterate through"
   ]
  },
  {
   "cell_type": "code",
   "execution_count": 10,
   "metadata": {},
   "outputs": [],
   "source": [
    "image_datasets = {\n",
    "    'train': trainset,\n",
    "    'test': testset\n",
    "}"
   ]
  },
  {
   "cell_type": "markdown",
   "metadata": {},
   "source": [
    "## Size of dataset (for precision)"
   ]
  },
  {
   "cell_type": "code",
   "execution_count": 14,
   "metadata": {},
   "outputs": [],
   "source": [
    "dataset_sizes = {x: len(image_datasets[x]) for x in ['train', 'test']}"
   ]
  },
  {
   "cell_type": "markdown",
   "metadata": {},
   "source": [
    "## Make datasets iterable"
   ]
  },
  {
   "cell_type": "code",
   "execution_count": 11,
   "metadata": {},
   "outputs": [],
   "source": [
    "dataloaders = {x: torch.utils.data.DataLoader(image_datasets[x], batch_size=4,\n",
    "                                             shuffle=True, num_workers=4)\n",
    "              for x in ['train', 'test']}"
   ]
  },
  {
   "cell_type": "markdown",
   "metadata": {},
   "source": [
    "## Define function for model training and testing "
   ]
  },
  {
   "cell_type": "code",
   "execution_count": 12,
   "metadata": {},
   "outputs": [],
   "source": [
    "def train_model(model, criterion, optimizer, scheduler, num_epochs=25):\n",
    "    since = time.time()\n",
    "\n",
    "    best_model_wts = model.state_dict()\n",
    "    best_acc = 0.0\n",
    "\n",
    "    for epoch in range(num_epochs):\n",
    "        print('Epoch {}/{}'.format(epoch, num_epochs - 1))\n",
    "        print('-' * 10)\n",
    "\n",
    "        # Each epoch has a training and testing phase\n",
    "        for phase in ['train', 'test']:\n",
    "            if phase == 'train':\n",
    "                scheduler.step()\n",
    "                model.train(True)  # Set model to training mode\n",
    "            else:\n",
    "                model.train(False)  # Set model to testing mode\n",
    "\n",
    "            running_loss = 0.0\n",
    "            running_corrects = 0\n",
    "\n",
    "            # Iterate over data.\n",
    "            for data in dataloaders[phase]:\n",
    "                # get the inputs\n",
    "                inputs, labels = data\n",
    "\n",
    "                # wrap them in Variable\n",
    "                if use_gpu:\n",
    "                    inputs = Variable(inputs.cuda())\n",
    "                    labels = Variable(labels.cuda())\n",
    "                else:\n",
    "                    inputs, labels = Variable(inputs), Variable(labels)\n",
    "\n",
    "                # zero the parameter gradients\n",
    "                optimizer.zero_grad()\n",
    "\n",
    "                # forward\n",
    "                outputs = model(inputs)\n",
    "                _, preds = torch.max(outputs.data, 1)\n",
    "                loss = criterion(outputs, labels)\n",
    "\n",
    "                # backward + optimize only if in training phase\n",
    "                if phase == 'train':\n",
    "                    loss.backward()\n",
    "                    optimizer.step()\n",
    "\n",
    "                # statistics\n",
    "                running_loss += loss.data[0]\n",
    "                running_corrects += torch.sum(preds == labels.data)\n",
    "\n",
    "            epoch_loss = running_loss / dataset_sizes[phase]\n",
    "            epoch_acc = running_corrects / dataset_sizes[phase]\n",
    "\n",
    "            print('{} Loss: {:.4f} Acc: {:.4f}'.format(\n",
    "                phase, epoch_loss, epoch_acc))\n",
    "\n",
    "            # deep copy the model\n",
    "            if phase == 'test' and epoch_acc > best_acc:\n",
    "                best_acc = epoch_acc\n",
    "                best_model_wts = model.state_dict()\n",
    "\n",
    "        print()\n",
    "\n",
    "    time_elapsed = time.time() - since\n",
    "    print('Training complete in {:.0f}m {:.0f}s'.format(\n",
    "        time_elapsed // 60, time_elapsed % 60))\n",
    "    print('Best test Acc: {:4f}'.format(best_acc))\n",
    "\n",
    "    # load best model weights\n",
    "    model.load_state_dict(best_model_wts)\n",
    "    return model"
   ]
  },
  {
   "cell_type": "markdown",
   "metadata": {},
   "source": [
    "## Train and Test"
   ]
  },
  {
   "cell_type": "code",
   "execution_count": 15,
   "metadata": {
    "scrolled": true
   },
   "outputs": [
    {
     "name": "stdout",
     "output_type": "stream",
     "text": [
      "Epoch 0/24\n",
      "----------\n",
      "train Loss: 2.0536 Acc: 0.0181\n",
      "test Loss: 1.7424 Acc: 0.0596\n",
      "\n",
      "Epoch 1/24\n",
      "----------\n",
      "train Loss: 1.5168 Acc: 0.1310\n",
      "test Loss: 1.2277 Acc: 0.2478\n",
      "\n",
      "Epoch 2/24\n",
      "----------\n",
      "train Loss: 1.0649 Acc: 0.3245\n",
      "test Loss: 0.8792 Acc: 0.4294\n",
      "\n",
      "Epoch 3/24\n",
      "----------\n",
      "train Loss: 0.8010 Acc: 0.4705\n",
      "test Loss: 0.7130 Acc: 0.5273\n",
      "\n",
      "Epoch 4/24\n",
      "----------\n",
      "train Loss: 0.6492 Acc: 0.5625\n",
      "test Loss: 0.6101 Acc: 0.5927\n",
      "\n",
      "Epoch 5/24\n",
      "----------\n",
      "train Loss: 0.5554 Acc: 0.6222\n",
      "test Loss: 0.5508 Acc: 0.6316\n",
      "\n",
      "Epoch 6/24\n",
      "----------\n",
      "train Loss: 0.4096 Acc: 0.7235\n",
      "test Loss: 0.4414 Acc: 0.7067\n",
      "\n",
      "Epoch 7/24\n",
      "----------\n",
      "train Loss: 0.3865 Acc: 0.7395\n",
      "test Loss: 0.4332 Acc: 0.7117\n",
      "\n",
      "Epoch 8/24\n",
      "----------\n",
      "train Loss: 0.3758 Acc: 0.7456\n",
      "test Loss: 0.4292 Acc: 0.7147\n",
      "\n",
      "Epoch 9/24\n",
      "----------\n",
      "train Loss: 0.3670 Acc: 0.7510\n",
      "test Loss: 0.4423 Acc: 0.7081\n",
      "\n",
      "Epoch 10/24\n",
      "----------\n",
      "train Loss: 0.3602 Acc: 0.7555\n",
      "test Loss: 0.4257 Acc: 0.7176\n",
      "\n",
      "Epoch 11/24\n",
      "----------\n",
      "train Loss: 0.3541 Acc: 0.7593\n",
      "test Loss: 0.4027 Acc: 0.7305\n",
      "\n",
      "Epoch 12/24\n",
      "----------\n",
      "train Loss: 0.3477 Acc: 0.7634\n",
      "test Loss: 0.4012 Acc: 0.7315\n",
      "\n",
      "Epoch 13/24\n",
      "----------\n",
      "train Loss: 0.3364 Acc: 0.7711\n",
      "test Loss: 0.4013 Acc: 0.7320\n",
      "\n",
      "Epoch 14/24\n",
      "----------\n",
      "train Loss: 0.3331 Acc: 0.7735\n",
      "test Loss: 0.3972 Acc: 0.7356\n",
      "\n",
      "Epoch 15/24\n",
      "----------\n",
      "train Loss: 0.3318 Acc: 0.7746\n",
      "test Loss: 0.4033 Acc: 0.7317\n",
      "\n",
      "Epoch 16/24\n",
      "----------\n",
      "train Loss: 0.3310 Acc: 0.7751\n",
      "test Loss: 0.3931 Acc: 0.7372\n",
      "\n",
      "Epoch 17/24\n",
      "----------\n",
      "train Loss: 0.3299 Acc: 0.7757\n",
      "test Loss: 0.3899 Acc: 0.7396\n",
      "\n",
      "Epoch 18/24\n",
      "----------\n",
      "train Loss: 0.3287 Acc: 0.7764\n",
      "test Loss: 0.3892 Acc: 0.7404\n",
      "\n",
      "Epoch 19/24\n",
      "----------\n",
      "train Loss: 0.3283 Acc: 0.7770\n",
      "test Loss: 0.3918 Acc: 0.7386\n",
      "\n",
      "Epoch 20/24\n",
      "----------\n",
      "train Loss: 0.3268 Acc: 0.7779\n",
      "test Loss: 0.4069 Acc: 0.7303\n",
      "\n",
      "Epoch 21/24\n",
      "----------\n",
      "train Loss: 0.3272 Acc: 0.7775\n",
      "test Loss: 0.3956 Acc: 0.7362\n",
      "\n",
      "Epoch 22/24\n",
      "----------\n",
      "train Loss: 0.3262 Acc: 0.7781\n",
      "test Loss: 0.3918 Acc: 0.7377\n",
      "\n",
      "Epoch 23/24\n",
      "----------\n",
      "train Loss: 0.3262 Acc: 0.7781\n",
      "test Loss: 0.3899 Acc: 0.7396\n",
      "\n",
      "Epoch 24/24\n",
      "----------\n",
      "train Loss: 0.3258 Acc: 0.7782\n",
      "test Loss: 0.3950 Acc: 0.7362\n",
      "\n",
      "Training complete in 12201m 59s\n",
      "Best test Acc: 0.740356\n"
     ]
    }
   ],
   "source": [
    "trained_model = train_model(\n",
    "    model = model,\n",
    "    criterion = criterion,\n",
    "    optimizer = optimizer,\n",
    "    scheduler = exp_lr_scheduler\n",
    "    )"
   ]
  },
  {
   "cell_type": "code",
   "execution_count": null,
   "metadata": {},
   "outputs": [],
   "source": []
  }
 ],
 "metadata": {
  "kernelspec": {
   "display_name": "Python 3",
   "language": "python",
   "name": "python3"
  },
  "language_info": {
   "codemirror_mode": {
    "name": "ipython",
    "version": 3
   },
   "file_extension": ".py",
   "mimetype": "text/x-python",
   "name": "python",
   "nbconvert_exporter": "python",
   "pygments_lexer": "ipython3",
   "version": "3.5.2"
  }
 },
 "nbformat": 4,
 "nbformat_minor": 2
}
